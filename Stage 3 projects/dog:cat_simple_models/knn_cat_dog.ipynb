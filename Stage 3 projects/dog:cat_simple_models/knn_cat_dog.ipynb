{
 "cells": [
  {
   "cell_type": "markdown",
   "id": "95daf612",
   "metadata": {},
   "source": [
    "# Use K-Nearest Neighbors (KNN) to classify small images \n",
    "\n",
    "This ipynb acts as a note-taking resource - writing the questions I have when constructing this project\n",
    "\n",
    "Steps in tackling this problem:\n",
    "1. Divide the working folder into this structure:\n",
    "- **datasets/**\n",
    "  - Contains the images.\n",
    "  - `simpledatasetloader.py`: Defines a class to load a batch of images from disk and prepare them for training/testing.\n",
    "\n",
    "- **preprocessing/**\n",
    "  - `simplepreprocessor.py`: Defines a class to preprocess images (e.g., resize, normalize) before feeding them into the model.\n",
    "\n",
    "- **Main notebook or script**\n",
    "\n",
    "2. Define the process of SimplePreprocessor"
   ]
  },
  {
   "cell_type": "markdown",
   "id": "c2ac0c07",
   "metadata": {},
   "source": [
    "## Step 2:\n",
    "In the __init__ part of the class, the 'inter' param is cv.INTER_AREA, what are the other options?\n",
    "\n",
    "Consider the situation in which I need this class. I want to resize - scale up or down an image. So how would OpenCV invent neew pixels to satisfy this? It needs to fill in pixel values. cv.INTER_* controls how it guesses them\n",
    "\n",
    "- cv.INTER_NEAREST \n",
    "    - Nearest neighbor interpolation (just copy the closest pixel).\n",
    "    - Fastest, but very blocky and ugly. Good for pixel art or masks.\n",
    "\n",
    "- cv.INTER_LINEAR \n",
    "    - Bilinear interpolation (average of 4 neighboring pixels).  \n",
    "    - Default. Good for shrinking or slight enlarging.\n",
    "\n",
    "- cv.INTER_CUBIC \n",
    "    - Bicubic interpolation (average of 16 neighboring pixels). \n",
    "    - Slower, but better quality for enlarging images.\n",
    "\n",
    "- cv.INTER_LANCZOS4 \n",
    "    - Lanczos interpolation over 8×8 pixel neighborhood. \n",
    "    - High quality for enlarging. Best if you care about sharpness.\n",
    "\n",
    "- cv.INTER_AREA \n",
    "    - Resampling using pixel area relation. \n",
    "    - Best for shrinking images (downscaling). Reduces aliasing artifacts."
   ]
  },
  {
   "cell_type": "markdown",
   "id": "8b729438",
   "metadata": {},
   "source": [
    "## Step 3: ImageLoader - build a pipeline - getting the processes into it - output processed image as feature vectors"
   ]
  },
  {
   "cell_type": "markdown",
   "id": "73df62d9",
   "metadata": {},
   "source": [
    "## Step 4: KNN classifer \n",
    "- Require a distance metric: common choice is Euclidian distance (distance computed by sqrt(x^2 + y^2))\n",
    "\n",
    "2 hyperparams:\n",
    "- the k amount: k=1 -> classify using only a single neighbour. \n",
    "    - say k = 3: the image is close to 2 cats and 1 dog -> group that one to cat group\n",
    "    - note: if k too big -> could oversmooth\n",
    "- the distance metric: euclidian, or manhattan for example\n",
    "\n",
    "\n",
    "### How would we implement KNN to this problem?\n",
    "- Datasets processing: 2000 images - 1k dogs, 1k cats. Reduced to 32x32 pixels. 3 RGB channels -> each image represented by 3072 integers\n",
    "- Splitting dataset: train and test -- validation set gotten from training data\n",
    "- Train the classifier: KNN work on the raw pixel intensities of the images in the training set\n",
    "- Evaluate the performance on the test set"
   ]
  },
  {
   "cell_type": "markdown",
   "id": "ff5c2fdf",
   "metadata": {},
   "source": []
  }
 ],
 "metadata": {
  "language_info": {
   "name": "python"
  }
 },
 "nbformat": 4,
 "nbformat_minor": 5
}
