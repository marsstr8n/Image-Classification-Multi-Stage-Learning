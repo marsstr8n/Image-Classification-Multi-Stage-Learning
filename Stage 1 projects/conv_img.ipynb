{
 "cells": [
  {
   "cell_type": "code",
   "execution_count": null,
   "id": "531ed9c1",
   "metadata": {},
   "outputs": [
    {
     "data": {
      "text/plain": [
       "array([[[ 45,  80, 183],\n",
       "        [ 43,  78, 181],\n",
       "        [ 43,  78, 181],\n",
       "        [ 43,  78, 181],\n",
       "        [ 48,  83, 186]],\n",
       "\n",
       "       [[ 46,  81, 184],\n",
       "        [ 44,  79, 182],\n",
       "        [ 43,  78, 181],\n",
       "        [ 43,  78, 181],\n",
       "        [ 47,  82, 185]],\n",
       "\n",
       "       [[ 45,  83, 185],\n",
       "        [ 43,  81, 183],\n",
       "        [ 43,  81, 183],\n",
       "        [ 43,  81, 183],\n",
       "        [ 44,  82, 184]],\n",
       "\n",
       "       [[ 46,  84, 186],\n",
       "        [ 45,  83, 185],\n",
       "        [ 45,  83, 185],\n",
       "        [ 45,  83, 185],\n",
       "        [ 44,  82, 184]],\n",
       "\n",
       "       [[ 47,  85, 187],\n",
       "        [ 45,  83, 185],\n",
       "        [ 40,  78, 180],\n",
       "        [ 37,  75, 177],\n",
       "        [ 45,  83, 185]]], dtype=uint8)"
      ]
     },
     "execution_count": 2,
     "metadata": {},
     "output_type": "execute_result"
    }
   ],
   "source": [
    "import numpy as np\n",
    "import cv2 as cv\n",
    "import matplotlib.pyplot as plt\n",
    "\n",
    "img = cv.imread('Images/ER.jpg')\n",
    "\n",
    "px = img[100:105,100:105] # 5x5 block of pixel, starting from [100,100]\n",
    "# remember, [B G R] in that order\n",
    "px"
   ]
  },
  {
   "cell_type": "markdown",
   "id": "aa3323c9",
   "metadata": {},
   "source": [
    "[ 45,  80, 183]: reddish, because R has the highest value\n",
    "\n",
    "5 rows x 5 columns -> 25 pixels total\n",
    "each pixel has 3 values, so the result is 5x5x3 array\n",
    "\n",
    "array([\n",
    "  [ [B, G, R], [B, G, R], ..., ],\n",
    "  [ [B, G, R], [B, G, R], ..., ],\n",
    "  ...\n",
    "], dtype=uint8)\n"
   ]
  }
 ],
 "metadata": {
  "kernelspec": {
   "display_name": "base",
   "language": "python",
   "name": "python3"
  },
  "language_info": {
   "codemirror_mode": {
    "name": "ipython",
    "version": 3
   },
   "file_extension": ".py",
   "mimetype": "text/x-python",
   "name": "python",
   "nbconvert_exporter": "python",
   "pygments_lexer": "ipython3",
   "version": "3.12.4"
  }
 },
 "nbformat": 4,
 "nbformat_minor": 5
}
