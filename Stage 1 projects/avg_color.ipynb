{
 "cells": [
  {
   "cell_type": "markdown",
   "id": "a1838b99",
   "metadata": {},
   "source": [
    "# Average color and Dominant color\n",
    "\n",
    "The average colour is the sum of all pixels divided by the number of pixels. However, this approach may yield a colour different to the most prominent visual color. What you might really want is dominant color rather than average colour."
   ]
  },
  {
   "cell_type": "code",
   "execution_count": 11,
   "id": "4ad12f0f",
   "metadata": {},
   "outputs": [
    {
     "name": "stdout",
     "output_type": "stream",
     "text": [
      "[124.80887654  79.76083333  48.66283704]\n"
     ]
    }
   ],
   "source": [
    "# Average colour\n",
    "import cv2 as cv\n",
    "import numpy as np\n",
    "\n",
    "img = cv.imread('Images/ER.jpg')  # shape: (H, W, 3)\n",
    "\n",
    "# conver to rgb\n",
    "img_rgb = cv.cvtColor(img, cv.COLOR_BGR2RGB)\n",
    "\n",
    "average_color = img_rgb.mean(axis=(0, 1))  # average over height and width\n",
    "print(average_color)\n",
    "\n"
   ]
  },
  {
   "cell_type": "code",
   "execution_count": null,
   "id": "8caca208",
   "metadata": {},
   "outputs": [
    {
     "data": {
      "text/plain": [
       "array([45.03714 , 25.85413 , 18.290665], dtype=float32)"
      ]
     },
     "execution_count": 10,
     "metadata": {},
     "output_type": "execute_result"
    }
   ],
   "source": [
    "# dominant\n",
    "\n",
    "\n",
    "# reshape to flat 2D of pixels\n",
    "pixels = np.float32(img_rgb.reshape((-1,3))) # flatten from 3D to 2D array\n",
    "# cv.kmeans require float32\n",
    "\n",
    "n_colours = 5\n",
    "criteria = (cv.TERM_CRITERIA_EPS + cv.TERM_CRITERIA_MAX_ITER, 200, .1)\n",
    "# stopping criteria to kmeans\n",
    "# cv.TERM_CRITERIA_EPS: Stop if the accuracy (epsilon) is good enough\n",
    "\n",
    "# cv.TERM_CRITERIA_MAX_ITER: Stop after max iterations\n",
    "\n",
    "# 200: Max iterations\n",
    "\n",
    "# 0.1: Minimum accuracy change (epsilon)\n",
    "\n",
    "\n",
    "flags = cv.KMEANS_RANDOM_CENTERS # choose initial cluster centers randomly\n",
    "\n",
    "_, labels, palette = cv.kmeans(pixels, n_colours, None, criteria, 10, flags) # runs algo 10 time\n",
    "# labels: Array of shape (num_pixels, 1), indicating which cluster each pixel belongs to\n",
    "# Array of shape (n_colours, 3) → the RGB colors of each cluster center\n",
    "\n",
    "\n",
    "\n",
    "_, counts = np.unique(labels, return_counts=True) # counts: show how many pixels fall into each color group\n",
    "\n",
    "\n",
    "dominant = palette[np.argmax(counts)]\n",
    "dominant"
   ]
  },
  {
   "cell_type": "markdown",
   "id": "753e73ae",
   "metadata": {},
   "source": [
    "### Example of what happens in .reshape()\n",
    "\n",
    "Image represented in 3D array normally\n",
    "img = np.array([\n",
    "    [ [255, 0, 0], [0, 255, 0], [0, 0, 255] ]\n",
    "])\n",
    "Shape: (1, 3, 3)\n",
    "→ 1 row, 3 columns, 3 channels (RGB)\n",
    "\n",
    "When undergo reshape.(-1, 3) - the goal is to make it become 2D\n",
    "-1: Figure the number of rows automatically\n",
    "3: each row has 3 values - RGB\n",
    "\n",
    "#### Result\n",
    "array([\n",
    "    [255,   0,   0],  # Red pixel\n",
    "    [  0, 255,   0],  # Green pixel\n",
    "    [  0,   0, 255]   # Blue pixel\n",
    "])\n"
   ]
  },
  {
   "cell_type": "code",
   "execution_count": null,
   "id": "bc757eb5",
   "metadata": {},
   "outputs": [
    {
     "data": {
      "image/png": "[encoded data removed]",
      "text/plain": [
       "<Figure size 1200x600 with 2 Axes>"
      ]
     },
     "metadata": {},
     "output_type": "display_data"
    }
   ],
   "source": [
    "# generate the figure - understand more of this later\n",
    "import matplotlib.pyplot as plt\n",
    "\n",
    "avg_patch = np.ones(shape=img.shape, dtype=np.uint8)*np.uint8(average_color)\n",
    "\n",
    "indices = np.argsort(counts)[::-1]   \n",
    "freqs = np.cumsum(np.hstack([[0], counts[indices]/float(counts.sum())]))\n",
    "rows = np.int_(img.shape[0]*freqs)\n",
    "\n",
    "dom_patch = np.zeros(shape=img.shape, dtype=np.uint8)\n",
    "for i in range(len(rows) - 1):\n",
    "    dom_patch[rows[i]:rows[i + 1], :, :] += np.uint8(palette[indices[i]])\n",
    "    \n",
    "fig, (ax0, ax1) = plt.subplots(1, 2, figsize=(12,6))\n",
    "ax0.imshow(avg_patch)\n",
    "ax0.set_title('Average color')\n",
    "ax0.axis('off')\n",
    "ax1.imshow(dom_patch)\n",
    "ax1.set_title('Dominant colors')\n",
    "ax1.axis('off')\n",
    "plt.show(fig)"
   ]
  },
  {
   "cell_type": "code",
   "execution_count": null,
   "id": "9bb1cd66",
   "metadata": {},
   "outputs": [],
   "source": []
  }
 ],
 "metadata": {
  "kernelspec": {
   "display_name": "base",
   "language": "python",
   "name": "python3"
  },
  "language_info": {
   "codemirror_mode": {
    "name": "ipython",
    "version": 3
   },
   "file_extension": ".py",
   "mimetype": "text/x-python",
   "name": "python",
   "nbconvert_exporter": "python",
   "pygments_lexer": "ipython3",
   "version": "3.12.4"
  }
 },
 "nbformat": 4,
 "nbformat_minor": 5
}
